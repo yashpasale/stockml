{
 "cells": [
  {
   "cell_type": "code",
   "execution_count": 300,
   "id": "53fcada4-638a-4af1-bc7d-92353e748088",
   "metadata": {},
   "outputs": [],
   "source": [
    "#importing libraries required\n",
    "\n",
    "import numpy\n",
    "import pandas_datareader as pdr\n",
    "import pandas as pd\n",
    "import yfinance as yf\n",
    "import numpy as np\n",
    "from sklearn.preprocessing import MinMaxScaler\n",
    "import matplotlib.pyplot as plt\n",
    "import math\n",
    "from sklearn.metrics import mean_squared_error\n",
    "from numpy import array\n",
    "\n",
    "\n",
    "# All tensorflow modules\n",
    "from tensorflow.keras.models import Sequential\n",
    "from tensorflow.keras.layers import Dense\n",
    "from tensorflow.keras.layers import LSTM\n",
    "import tensorflow as tf"
   ]
  },
  {
   "cell_type": "code",
   "execution_count": 301,
   "id": "88ccf7b3-3d03-460d-bd34-84a57afdf278",
   "metadata": {},
   "outputs": [
    {
     "name": "stdout",
     "output_type": "stream",
     "text": [
      "[*********************100%***********************]  1 of 1 completed\n"
     ]
    },
    {
     "data": {
      "text/html": [
       "<div>\n",
       "<style scoped>\n",
       "    .dataframe tbody tr th:only-of-type {\n",
       "        vertical-align: middle;\n",
       "    }\n",
       "\n",
       "    .dataframe tbody tr th {\n",
       "        vertical-align: top;\n",
       "    }\n",
       "\n",
       "    .dataframe thead th {\n",
       "        text-align: right;\n",
       "    }\n",
       "</style>\n",
       "<table border=\"1\" class=\"dataframe\">\n",
       "  <thead>\n",
       "    <tr style=\"text-align: right;\">\n",
       "      <th></th>\n",
       "      <th>Open</th>\n",
       "      <th>High</th>\n",
       "      <th>Low</th>\n",
       "      <th>Close</th>\n",
       "      <th>Adj Close</th>\n",
       "      <th>Volume</th>\n",
       "    </tr>\n",
       "    <tr>\n",
       "      <th>Date</th>\n",
       "      <th></th>\n",
       "      <th></th>\n",
       "      <th></th>\n",
       "      <th></th>\n",
       "      <th></th>\n",
       "      <th></th>\n",
       "    </tr>\n",
       "  </thead>\n",
       "  <tbody>\n",
       "    <tr>\n",
       "      <th>2002-07-01 00:00:00+05:30</th>\n",
       "      <td>63.549999</td>\n",
       "      <td>65.449997</td>\n",
       "      <td>63.549999</td>\n",
       "      <td>64.974998</td>\n",
       "      <td>54.099964</td>\n",
       "      <td>107294</td>\n",
       "    </tr>\n",
       "    <tr>\n",
       "      <th>2002-07-02 00:00:00+05:30</th>\n",
       "      <td>65.000000</td>\n",
       "      <td>66.974998</td>\n",
       "      <td>65.000000</td>\n",
       "      <td>66.199997</td>\n",
       "      <td>55.119926</td>\n",
       "      <td>224240</td>\n",
       "    </tr>\n",
       "    <tr>\n",
       "      <th>2002-07-03 00:00:00+05:30</th>\n",
       "      <td>66.449997</td>\n",
       "      <td>66.900002</td>\n",
       "      <td>64.550003</td>\n",
       "      <td>64.949997</td>\n",
       "      <td>54.079151</td>\n",
       "      <td>97578</td>\n",
       "    </tr>\n",
       "    <tr>\n",
       "      <th>2002-07-04 00:00:00+05:30</th>\n",
       "      <td>65.400002</td>\n",
       "      <td>66.250000</td>\n",
       "      <td>64.824997</td>\n",
       "      <td>65.074997</td>\n",
       "      <td>54.183224</td>\n",
       "      <td>99150</td>\n",
       "    </tr>\n",
       "    <tr>\n",
       "      <th>2002-07-05 00:00:00+05:30</th>\n",
       "      <td>65.500000</td>\n",
       "      <td>66.224998</td>\n",
       "      <td>64.550003</td>\n",
       "      <td>65.425003</td>\n",
       "      <td>54.474659</td>\n",
       "      <td>219024</td>\n",
       "    </tr>\n",
       "  </tbody>\n",
       "</table>\n",
       "</div>"
      ],
      "text/plain": [
       "                                Open       High        Low      Close  \\\n",
       "Date                                                                    \n",
       "2002-07-01 00:00:00+05:30  63.549999  65.449997  63.549999  64.974998   \n",
       "2002-07-02 00:00:00+05:30  65.000000  66.974998  65.000000  66.199997   \n",
       "2002-07-03 00:00:00+05:30  66.449997  66.900002  64.550003  64.949997   \n",
       "2002-07-04 00:00:00+05:30  65.400002  66.250000  64.824997  65.074997   \n",
       "2002-07-05 00:00:00+05:30  65.500000  66.224998  64.550003  65.425003   \n",
       "\n",
       "                           Adj Close  Volume  \n",
       "Date                                          \n",
       "2002-07-01 00:00:00+05:30  54.099964  107294  \n",
       "2002-07-02 00:00:00+05:30  55.119926  224240  \n",
       "2002-07-03 00:00:00+05:30  54.079151   97578  \n",
       "2002-07-04 00:00:00+05:30  54.183224   99150  \n",
       "2002-07-05 00:00:00+05:30  54.474659  219024  "
      ]
     },
     "execution_count": 301,
     "metadata": {},
     "output_type": "execute_result"
    }
   ],
   "source": [
    "df = yf.download('APOLLOHOSP.NS', start='1998-03-08', end='2022-10-21')\n",
    "df.head()"
   ]
  },
  {
   "cell_type": "code",
   "execution_count": 302,
   "id": "5f5ab1c8-08b7-4062-982a-f3ceabadfbd9",
   "metadata": {},
   "outputs": [
    {
     "data": {
      "text/plain": [
       "[<matplotlib.lines.Line2D at 0x2d56cabf0>]"
      ]
     },
     "execution_count": 302,
     "metadata": {},
     "output_type": "execute_result"
    },
    {
     "data": {
      "image/png": "[encoded data removed]",
      "text/plain": [
       "<Figure size 640x480 with 1 Axes>"
      ]
     },
     "metadata": {},
     "output_type": "display_data"
    }
   ],
   "source": [
    "# plotting chart for visualization\n",
    "\n",
    "plt.plot(df['Close'])"
   ]
  },
  {
   "cell_type": "code",
   "execution_count": 303,
   "id": "0d773951-d70d-4e78-8bdd-de63142a7753",
   "metadata": {},
   "outputs": [],
   "source": [
    "#Arranging data into one variable for closing prices\n",
    "\n",
    "df1 = df['Close']"
   ]
  },
  {
   "cell_type": "code",
   "execution_count": 304,
   "id": "dd05b2ad-b5a1-4b91-b2e8-978abd058b03",
   "metadata": {},
   "outputs": [
    {
     "data": {
      "text/plain": [
       "Date\n",
       "2002-07-01 00:00:00+05:30      64.974998\n",
       "2002-07-02 00:00:00+05:30      66.199997\n",
       "2002-07-03 00:00:00+05:30      64.949997\n",
       "2002-07-04 00:00:00+05:30      65.074997\n",
       "2002-07-05 00:00:00+05:30      65.425003\n",
       "                                ...     \n",
       "2022-10-14 00:00:00+05:30    4297.149902\n",
       "2022-10-17 00:00:00+05:30    4290.850098\n",
       "2022-10-18 00:00:00+05:30    4366.000000\n",
       "2022-10-19 00:00:00+05:30    4388.750000\n",
       "2022-10-20 00:00:00+05:30    4322.500000\n",
       "Name: Close, Length: 5046, dtype: float64"
      ]
     },
     "execution_count": 304,
     "metadata": {},
     "output_type": "execute_result"
    }
   ],
   "source": [
    "df1"
   ]
  },
  {
   "cell_type": "code",
   "execution_count": 305,
   "id": "a3bd0388-cbf2-4984-91b2-787f42e659e9",
   "metadata": {},
   "outputs": [],
   "source": [
    "# transforming data into MinMaxScaler Using numpy array\n",
    "\n",
    "scaler = MinMaxScaler(feature_range=(0,1))\n",
    "df1 = scaler.fit_transform(np.array(df1).reshape(-1,1))"
   ]
  },
  {
   "cell_type": "code",
   "execution_count": 306,
   "id": "52fe411a-b6e3-4254-b8cf-380deb7608a5",
   "metadata": {},
   "outputs": [
    {
     "name": "stdout",
     "output_type": "stream",
     "text": [
      "[[0.00328781]\n",
      " [0.00350319]\n",
      " [0.00328341]\n",
      " ...\n",
      " [0.75948869]\n",
      " [0.76348857]\n",
      " [0.75184058]]\n"
     ]
    }
   ],
   "source": [
    "# Checking data (This block is not required)\n",
    "\n",
    "print(df1)"
   ]
  },
  {
   "cell_type": "code",
   "execution_count": null,
   "id": "cc355f57-29eb-4c10-96d5-9481e42349f4",
   "metadata": {},
   "outputs": [],
   "source": [
    "# Splitting of data for the purpose of training and testing set\n",
    "\n",
    "training_size = int(len(df1)*0.70)\n",
    "test_size = len(df1)-training_size\n",
    "train_data = df1[0:training_size, :]\n",
    "test_data = df1[training_size: len(df1), :1]"
   ]
  },
  {
   "cell_type": "code",
   "execution_count": 308,
   "id": "eaa948db-db86-4603-97ed-c827c24ac72c",
   "metadata": {},
   "outputs": [],
   "source": [
    "# now converting numpy array into dataset matrix\n",
    "\n",
    "def create_dataset(dataset, time_step=1):\n",
    "    dataX, dataY = [], []\n",
    "    for i in range(len(dataset) - time_step-1):\n",
    "        a = dataset[i:(i + time_step), 0] \n",
    "        dataX.append(a)\n",
    "        dataY.append(dataset[i + time_step, 0])\n",
    "    return numpy.array(dataX), numpy.array(dataY)"
   ]
  },
  {
   "cell_type": "code",
   "execution_count": 309,
   "id": "2d10dfba-ab8c-459e-9eb3-74083e5a7d00",
   "metadata": {},
   "outputs": [],
   "source": [
    "# resizing data into X=t, t+1, t+2, t+3\n",
    "\n",
    "time_step = 100\n",
    "X_train, y_train = create_dataset(train_data, time_step)\n",
    "X_test, ytest = create_dataset(test_data, time_step)"
   ]
  },
  {
   "cell_type": "code",
   "execution_count": 310,
   "id": "8865194f-bd14-4bb9-85b7-848d511f0366",
   "metadata": {},
   "outputs": [
    {
     "name": "stdout",
     "output_type": "stream",
     "text": [
      "(3431, 100)\n",
      "(3431,)\n"
     ]
    }
   ],
   "source": [
    "#Checking data (Block not required)\n",
    "\n",
    "print(X_train.shape)\n",
    "print(y_train.shape)"
   ]
  },
  {
   "cell_type": "code",
   "execution_count": 311,
   "id": "e4f79c6d-f207-442d-9ede-63f8adb0f77b",
   "metadata": {},
   "outputs": [],
   "source": [
    "# Creating \"Stacked\" LSTM Structure\n",
    "\n",
    "model = Sequential()\n",
    "model.add(LSTM(50,return_sequences=True, input_shape=(100,1)))\n",
    "model.add(LSTM(50,return_sequences=True))\n",
    "model.add(LSTM(50))\n",
    "model.add(Dense(1))\n",
    "model.compile(loss = 'mean_squared_error', optimizer='adam')"
   ]
  },
  {
   "cell_type": "code",
   "execution_count": 312,
   "id": "6adf91fd-9752-4aa7-b526-2025616f3147",
   "metadata": {},
   "outputs": [
    {
     "name": "stdout",
     "output_type": "stream",
     "text": [
      "Model: \"sequential_2\"\n",
      "_________________________________________________________________\n",
      " Layer (type)                Output Shape              Param #   \n",
      "=================================================================\n",
      " lstm_6 (LSTM)               (None, 100, 50)           10400     \n",
      "                                                                 \n",
      " lstm_7 (LSTM)               (None, 100, 50)           20200     \n",
      "                                                                 \n",
      " lstm_8 (LSTM)               (None, 50)                20200     \n",
      "                                                                 \n",
      " dense_2 (Dense)             (None, 1)                 51        \n",
      "                                                                 \n",
      "=================================================================\n",
      "Total params: 50,851\n",
      "Trainable params: 50,851\n",
      "Non-trainable params: 0\n",
      "_________________________________________________________________\n"
     ]
    }
   ],
   "source": [
    "# Visualizing structure of the created LSTM model\n",
    "model.summary()"
   ]
  },
  {
   "cell_type": "code",
   "execution_count": 313,
   "id": "ec42e108-2ba0-41ba-922d-ca9238a9d10b",
   "metadata": {},
   "outputs": [
    {
     "name": "stdout",
     "output_type": "stream",
     "text": [
      "Epoch 1/50\n",
      "54/54 [==============================] - 10s 155ms/step - loss: 5.9045e-04 - val_loss: 0.0020\n",
      "Epoch 2/50\n",
      "54/54 [==============================] - 5s 95ms/step - loss: 3.4285e-05 - val_loss: 0.0023\n",
      "Epoch 3/50\n",
      "54/54 [==============================] - 5s 101ms/step - loss: 3.3877e-05 - val_loss: 0.0035\n",
      "Epoch 4/50\n",
      "54/54 [==============================] - 5s 97ms/step - loss: 3.2354e-05 - val_loss: 0.0039\n",
      "Epoch 5/50\n",
      "54/54 [==============================] - 6s 106ms/step - loss: 3.3330e-05 - val_loss: 0.0040\n",
      "Epoch 6/50\n",
      "54/54 [==============================] - 5s 96ms/step - loss: 3.4264e-05 - val_loss: 0.0046\n",
      "Epoch 7/50\n",
      "54/54 [==============================] - 5s 98ms/step - loss: 3.3431e-05 - val_loss: 0.0048\n",
      "Epoch 8/50\n",
      "54/54 [==============================] - 6s 106ms/step - loss: 3.2149e-05 - val_loss: 0.0036\n",
      "Epoch 9/50\n",
      "54/54 [==============================] - 5s 99ms/step - loss: 3.2324e-05 - val_loss: 0.0043\n",
      "Epoch 10/50\n",
      "54/54 [==============================] - 5s 97ms/step - loss: 2.9849e-05 - val_loss: 0.0033\n",
      "Epoch 11/50\n",
      "54/54 [==============================] - 5s 95ms/step - loss: 3.2220e-05 - val_loss: 0.0023\n",
      "Epoch 12/50\n",
      "54/54 [==============================] - 6s 116ms/step - loss: 2.9161e-05 - val_loss: 0.0033\n",
      "Epoch 13/50\n",
      "54/54 [==============================] - 5s 98ms/step - loss: 2.9167e-05 - val_loss: 0.0019\n",
      "Epoch 14/50\n",
      "54/54 [==============================] - 5s 100ms/step - loss: 2.7577e-05 - val_loss: 0.0018\n",
      "Epoch 15/50\n",
      "54/54 [==============================] - 5s 101ms/step - loss: 3.2115e-05 - val_loss: 0.0020\n",
      "Epoch 16/50\n",
      "54/54 [==============================] - 6s 111ms/step - loss: 2.8040e-05 - val_loss: 0.0025\n",
      "Epoch 17/50\n",
      "54/54 [==============================] - 5s 97ms/step - loss: 3.7669e-05 - val_loss: 0.0019\n",
      "Epoch 18/50\n",
      "54/54 [==============================] - 5s 96ms/step - loss: 2.8608e-05 - val_loss: 0.0025\n",
      "Epoch 19/50\n",
      "54/54 [==============================] - 6s 103ms/step - loss: 2.4318e-05 - val_loss: 0.0020\n",
      "Epoch 20/50\n",
      "54/54 [==============================] - 5s 97ms/step - loss: 2.4897e-05 - val_loss: 0.0016\n",
      "Epoch 21/50\n",
      "54/54 [==============================] - 5s 96ms/step - loss: 2.6396e-05 - val_loss: 0.0021\n",
      "Epoch 22/50\n",
      "54/54 [==============================] - 9s 165ms/step - loss: 2.4917e-05 - val_loss: 0.0020\n",
      "Epoch 23/50\n",
      "54/54 [==============================] - 12s 213ms/step - loss: 2.3537e-05 - val_loss: 0.0015\n",
      "Epoch 24/50\n",
      "54/54 [==============================] - 5s 96ms/step - loss: 2.2703e-05 - val_loss: 0.0015\n",
      "Epoch 25/50\n",
      "54/54 [==============================] - 7s 121ms/step - loss: 2.0357e-05 - val_loss: 0.0017\n",
      "Epoch 26/50\n",
      "54/54 [==============================] - 5s 97ms/step - loss: 2.0317e-05 - val_loss: 0.0024\n",
      "Epoch 27/50\n",
      "54/54 [==============================] - 5s 96ms/step - loss: 2.2360e-05 - val_loss: 0.0019\n",
      "Epoch 28/50\n",
      "54/54 [==============================] - 5s 97ms/step - loss: 1.9353e-05 - val_loss: 0.0015\n",
      "Epoch 29/50\n",
      "54/54 [==============================] - 6s 108ms/step - loss: 1.8831e-05 - val_loss: 0.0018\n",
      "Epoch 30/50\n",
      "54/54 [==============================] - 5s 98ms/step - loss: 1.9758e-05 - val_loss: 0.0014\n",
      "Epoch 31/50\n",
      "54/54 [==============================] - 5s 96ms/step - loss: 2.2067e-05 - val_loss: 0.0015\n",
      "Epoch 32/50\n",
      "54/54 [==============================] - 6s 113ms/step - loss: 1.8576e-05 - val_loss: 0.0015\n",
      "Epoch 33/50\n",
      "54/54 [==============================] - 5s 96ms/step - loss: 2.0804e-05 - val_loss: 0.0017\n",
      "Epoch 34/50\n",
      "54/54 [==============================] - 5s 98ms/step - loss: 2.0502e-05 - val_loss: 0.0012\n",
      "Epoch 35/50\n",
      "54/54 [==============================] - 5s 96ms/step - loss: 1.6020e-05 - val_loss: 0.0010\n",
      "Epoch 36/50\n",
      "54/54 [==============================] - 6s 111ms/step - loss: 1.7363e-05 - val_loss: 0.0017\n",
      "Epoch 37/50\n",
      "54/54 [==============================] - 5s 94ms/step - loss: 1.8619e-05 - val_loss: 0.0012\n",
      "Epoch 38/50\n",
      "54/54 [==============================] - 5s 96ms/step - loss: 1.5789e-05 - val_loss: 9.4305e-04\n",
      "Epoch 39/50\n",
      "54/54 [==============================] - 5s 94ms/step - loss: 1.5005e-05 - val_loss: 7.0293e-04\n",
      "Epoch 40/50\n",
      "54/54 [==============================] - 6s 108ms/step - loss: 1.5288e-05 - val_loss: 3.9097e-04\n",
      "Epoch 41/50\n",
      "54/54 [==============================] - 5s 97ms/step - loss: 1.8084e-05 - val_loss: 4.6597e-04\n",
      "Epoch 42/50\n",
      "54/54 [==============================] - 5s 96ms/step - loss: 1.9481e-05 - val_loss: 0.0011\n",
      "Epoch 43/50\n",
      "54/54 [==============================] - 5s 94ms/step - loss: 1.9424e-05 - val_loss: 7.3467e-04\n",
      "Epoch 44/50\n",
      "54/54 [==============================] - 6s 102ms/step - loss: 1.4389e-05 - val_loss: 5.7628e-04\n",
      "Epoch 45/50\n",
      "54/54 [==============================] - 5s 98ms/step - loss: 1.3135e-05 - val_loss: 6.2379e-04\n",
      "Epoch 46/50\n",
      "54/54 [==============================] - 5s 99ms/step - loss: 1.3156e-05 - val_loss: 5.1786e-04\n",
      "Epoch 47/50\n",
      "54/54 [==============================] - 6s 110ms/step - loss: 1.5354e-05 - val_loss: 7.9147e-04\n",
      "Epoch 48/50\n",
      "54/54 [==============================] - 6s 105ms/step - loss: 1.3604e-05 - val_loss: 5.1758e-04\n",
      "Epoch 49/50\n",
      "54/54 [==============================] - 5s 95ms/step - loss: 1.1276e-05 - val_loss: 3.4031e-04\n",
      "Epoch 50/50\n",
      "54/54 [==============================] - 7s 134ms/step - loss: 1.2296e-05 - val_loss: 7.1169e-04\n"
     ]
    },
    {
     "data": {
      "text/plain": [
       "<keras.callbacks.History at 0x2d60be3b0>"
      ]
     },
     "execution_count": 313,
     "metadata": {},
     "output_type": "execute_result"
    }
   ],
   "source": [
    "#training model\n",
    "\n",
    "model.fit(X_train,y_train,validation_data = (X_test,ytest), epochs=50, batch_size=64, verbose=1)\n"
   ]
  },
  {
   "cell_type": "code",
   "execution_count": 314,
   "id": "8753711d-d944-463c-becd-5c940b16c5ce",
   "metadata": {},
   "outputs": [
    {
     "name": "stdout",
     "output_type": "stream",
     "text": [
      "108/108 [==============================] - 3s 19ms/step\n",
      "45/45 [==============================] - 1s 13ms/step\n"
     ]
    }
   ],
   "source": [
    "# Predictions\n",
    "\n",
    "train_predict = model.predict(X_train)\n",
    "test_predict = model.predict(X_test)"
   ]
  },
  {
   "cell_type": "code",
   "execution_count": 315,
   "id": "485395f9-6934-4048-a03c-da6b0274ef20",
   "metadata": {},
   "outputs": [],
   "source": [
    "#Transforming predicted data back to readable prices\n",
    "\n",
    "train_predict=scaler.inverse_transform(train_predict)\n",
    "test_predict=scaler.inverse_transform(test_predict)"
   ]
  },
  {
   "cell_type": "code",
   "execution_count": 348,
   "id": "ffbb5c08-ae24-4ff5-97a4-79998f15c98f",
   "metadata": {},
   "outputs": [
    {
     "data": {
      "text/plain": [
       "648.9209797047637"
      ]
     },
     "execution_count": 348,
     "metadata": {},
     "output_type": "execute_result"
    }
   ],
   "source": [
    "# Performance metrics as RMSE \n",
    "math.sqrt(mean_squared_error(y_train, train_predict))"
   ]
  },
  {
   "cell_type": "code",
   "execution_count": 349,
   "id": "a03ff7df-e974-4dd9-b5ea-d3f3e4da1152",
   "metadata": {},
   "outputs": [
    {
     "data": {
      "text/plain": [
       "2449.305538790256"
      ]
     },
     "execution_count": 349,
     "metadata": {},
     "output_type": "execute_result"
    }
   ],
   "source": [
    "#testdata\n",
    "math.sqrt(mean_squared_error(ytest, test_predict))"
   ]
  },
  {
   "cell_type": "code",
   "execution_count": 350,
   "id": "4f63467e-1d38-4516-a66f-88c68b07ad22",
   "metadata": {},
   "outputs": [
    {
     "data": {
      "image/png": "[encoded data removed]",
      "text/plain": [
       "<Figure size 640x480 with 1 Axes>"
      ]
     },
     "metadata": {},
     "output_type": "display_data"
    }
   ],
   "source": [
    "# Visualizing the predictions\n",
    "\n",
    "# shift train predictions for plotting\n",
    "look_back=100\n",
    "trainPredictPlot = numpy.empty_like(df1)\n",
    "trainPredictPlot[:, :] = np.nan\n",
    "trainPredictPlot[look_back:len(train_predict)+look_back, :] = train_predict\n",
    "\n",
    "# shift test predictions for plotting\n",
    "testPredictPlot = numpy.empty_like(df1)\n",
    "testPredictPlot[:, :] = numpy.nan\n",
    "testPredictPlot[len(train_predict)+(look_back*2)+1:len(df1)-1, :] = test_predict\n",
    "\n",
    "# plot baseline and predictions\n",
    "plt.plot(scaler.inverse_transform(df1))\n",
    "plt.plot(trainPredictPlot)\n",
    "plt.plot(testPredictPlot)\n",
    "plt.show()"
   ]
  },
  {
   "cell_type": "code",
   "execution_count": 351,
   "id": "008cb939-6aa3-4b14-8bfa-62f46ecd50ff",
   "metadata": {},
   "outputs": [],
   "source": [
    "# For predicting the next x days\n",
    "# By now our model has been validated and is showing accurate results\n",
    "# Real life implementation of our code will be seen now\n",
    "# This has been a fun project to work on and can be used for analysis purposes\n",
    "# "
   ]
  },
  {
   "cell_type": "code",
   "execution_count": 352,
   "id": "64ba4797-d367-490d-a21e-bfffbd3042a8",
   "metadata": {},
   "outputs": [
    {
     "name": "stdout",
     "output_type": "stream",
     "text": [
      "Length of total data:  1514\n"
     ]
    },
    {
     "data": {
      "text/plain": [
       "1414"
      ]
     },
     "execution_count": 352,
     "metadata": {},
     "output_type": "execute_result"
    }
   ],
   "source": [
    "# Creating input data \n",
    "\n",
    "test_days = len(test_data) - 100\n",
    "print(\"Length of total data: \", len(test_data))\n",
    "test_days"
   ]
  },
  {
   "cell_type": "code",
   "execution_count": 353,
   "id": "9b669ff5-a79d-45b1-8ad4-18ef0d132968",
   "metadata": {},
   "outputs": [],
   "source": [
    "# now considering t-100 days for this length of data\n",
    "x_input=test_data[test_days:].reshape(1,-1)"
   ]
  },
  {
   "cell_type": "code",
   "execution_count": 354,
   "id": "60c1a6a4-3a62-4d52-9684-ed7a3dbe0be5",
   "metadata": {},
   "outputs": [],
   "source": [
    "temp_input=list(x_input)\n",
    "temp_input=temp_input[0].tolist()"
   ]
  },
  {
   "cell_type": "code",
   "execution_count": 355,
   "id": "05886ef9-dc2e-4564-8ddc-53f77a8b28b9",
   "metadata": {},
   "outputs": [],
   "source": [
    "# Code to predict the next 10 days\n",
    "\n",
    "# Algorithm to arrange predicted data\n",
    "\n",
    "lst_output=[]\n",
    "n_steps=100\n",
    "i=0\n",
    "while(i<30):\n",
    "    \n",
    "    if(len(temp_input)>100):\n",
    "        x_input=np.array(temp_input[1:])\n",
    "        x_input=x_input.reshape(1,-1)\n",
    "        x_input = x_input.reshape((1, n_steps, 1))\n",
    "        yhat = model.predict(x_input, verbose=0)\n",
    "        temp_input.extend(yhat[0].tolist())\n",
    "        temp_input=temp_input[1:]\n",
    "        lst_output.extend(yhat.tolist())\n",
    "        i=i+1\n",
    "    else:\n",
    "        x_input = x_input.reshape((1, n_steps,1))\n",
    "        yhat = model.predict(x_input, verbose=0)\n",
    "        temp_input.extend(yhat[0].tolist())\n",
    "        lst_output.extend(yhat.tolist())\n",
    "        i=i+1\n",
    "    "
   ]
  },
  {
   "cell_type": "code",
   "execution_count": 356,
   "id": "d6863870-bfb3-4647-96e4-6a1a28263b87",
   "metadata": {},
   "outputs": [],
   "source": [
    "# Plotting of the aquired data\n",
    "\n",
    "day_new = np.arange(1,101)\n",
    "day_pred = np.arange(101,131)"
   ]
  },
  {
   "cell_type": "code",
   "execution_count": 357,
   "id": "24a68d74-ffa7-46f4-ad68-92f18da7551a",
   "metadata": {},
   "outputs": [
    {
     "name": "stdout",
     "output_type": "stream",
     "text": [
      "5046\n"
     ]
    },
    {
     "data": {
      "text/plain": [
       "4946"
      ]
     },
     "execution_count": 357,
     "metadata": {},
     "output_type": "execute_result"
    }
   ],
   "source": [
    "# viewing size of df1\n",
    "\n",
    "print(len(df1))\n",
    "test_days1 = len(df1) - 100\n",
    "test_days1"
   ]
  },
  {
   "cell_type": "code",
   "execution_count": 358,
   "id": "b9616c85-b40d-4906-a8f2-76d772d5cb01",
   "metadata": {},
   "outputs": [
    {
     "data": {
      "text/plain": [
       "[<matplotlib.lines.Line2D at 0x2dd24f370>]"
      ]
     },
     "execution_count": 358,
     "metadata": {},
     "output_type": "execute_result"
    },
    {
     "data": {
      "image/png": "[encoded data removed]",
      "text/plain": [
       "<Figure size 640x480 with 1 Axes>"
      ]
     },
     "metadata": {},
     "output_type": "display_data"
    }
   ],
   "source": [
    "# Visualizing predicted data\n",
    "# as we can see a beautifully predicted chart\n",
    "\n",
    "plt.plot(day_new,scaler.inverse_transform(df1[test_days1:]))\n",
    "plt.plot(day_pred,scaler.inverse_transform(lst_output))"
   ]
  },
  {
   "cell_type": "code",
   "execution_count": 359,
   "id": "68173e87-db12-4a00-902a-26632d932b62",
   "metadata": {},
   "outputs": [],
   "source": [
    "# Visualizing detailed predictions done by LSTM"
   ]
  },
  {
   "cell_type": "code",
   "execution_count": 360,
   "id": "481b0a40-3f84-43a4-ac01-ab9e85f36c22",
   "metadata": {},
   "outputs": [
    {
     "data": {
      "text/plain": [
       "[<matplotlib.lines.Line2D at 0x2dcf120e0>]"
      ]
     },
     "execution_count": 360,
     "metadata": {},
     "output_type": "execute_result"
    },
    {
     "data": {
      "image/png": "[encoded data removed]",
      "text/plain": [
       "<Figure size 640x480 with 1 Axes>"
      ]
     },
     "metadata": {},
     "output_type": "display_data"
    }
   ],
   "source": [
    "# Final Observations\n",
    "# viewing current Chart\n",
    "\n",
    "plt.plot(df['Close'])"
   ]
  },
  {
   "cell_type": "code",
   "execution_count": 361,
   "id": "261d1ba1-8151-409f-af05-c4029c261f72",
   "metadata": {},
   "outputs": [
    {
     "data": {
      "text/plain": [
       "[<matplotlib.lines.Line2D at 0x2dce8ff40>]"
      ]
     },
     "execution_count": 361,
     "metadata": {},
     "output_type": "execute_result"
    },
    {
     "data": {
      "image/png": "[encoded data removed]",
      "text/plain": [
       "<Figure size 640x480 with 1 Axes>"
      ]
     },
     "metadata": {},
     "output_type": "display_data"
    }
   ],
   "source": [
    "# Viewing predicted chart\n",
    "\n",
    "df3=scaler.inverse_transform(df3).tolist()\n",
    "plt.plot(df3)"
   ]
  },
  {
   "cell_type": "code",
   "execution_count": null,
   "id": "61406895-6d8f-49a0-88b8-3275050d8466",
   "metadata": {},
   "outputs": [],
   "source": []
  }
 ],
 "metadata": {
  "kernelspec": {
   "display_name": "Python 3 (ipykernel)",
   "language": "python",
   "name": "python3"
  },
  "language_info": {
   "codemirror_mode": {
    "name": "ipython",
    "version": 3
   },
   "file_extension": ".py",
   "mimetype": "text/x-python",
   "name": "python",
   "nbconvert_exporter": "python",
   "pygments_lexer": "ipython3",
   "version": "3.10.2"
  }
 },
 "nbformat": 4,
 "nbformat_minor": 5
}
